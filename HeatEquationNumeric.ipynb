{
 "cells": [
  {
   "cell_type": "code",
   "execution_count": 1,
   "metadata": {
    "collapsed": false
   },
   "outputs": [],
   "source": [
    "%matplotlib inline\n",
    "import matplotlib.pyplot as plt\n",
    "import numpy, pandas"
   ]
  },
  {
   "cell_type": "markdown",
   "metadata": {
    "collapsed": true
   },
   "source": [
    "# 1D"
   ]
  },
  {
   "cell_type": "markdown",
   "metadata": {},
   "source": [
    "Heat equation:\n",
    "\n",
    "$$\\frac{\\partial u}{\\partial t} = a \\frac{\\partial^{2} u}{\\partial x^{2}}$$\n",
    "\n",
    "where $a = a(x, t) \\ge 0$\n",
    "\n",
    "Initial condition: \n",
    "\n",
    "$$u(0, x) = u_{0}(x), t=0$$\n",
    "\n",
    "Boundary conditions: \n",
    "\n",
    "$$-A_{1}\\frac{\\partial u}{\\partial x} + B_{1}u = \\phi_{1}(t), x=0$$\n",
    "\n",
    "$$A_{2}\\frac{\\partial u}{\\partial x} - B_{2}u = \\phi_{2}(t), x=X$$\n",
    "\n",
    "Solution:\n",
    "\n",
    "$$ \\frac{u_{m}^{n+1} - u_{m}^{n}}{\\tau} = a \\frac{u_{m-1}^{n+1} - 2 u_{m}^{n+1} + u_{m+1}^{n+1}}{h^{2}}$$\n",
    "\n",
    "This solution is stable with any $\\tau$ and $h$ with approximation order of $O(\\tau, h^{2})$."
   ]
  },
  {
   "cell_type": "code",
   "execution_count": 2,
   "metadata": {
    "collapsed": true
   },
   "outputs": [],
   "source": [
    "def a(x, t):\n",
    "    return 1.\n",
    "\n",
    "def Solver1D(u, N_tau, N_h):\n",
    "    \n",
    "    tau = 1./N_tau\n",
    "    h = 1./N_h\n",
    "    \n",
    "    # Solution\n",
    "\n",
    "    # for n in range(1, N_tau-1):\n",
    "    #     for m in range(1, N_h-1):\n",
    "    #         u[m, n+1] = u[m, n] + tau * a(X[m], T[n]) * (u[m-1, n] - 2*u[m, n] + u[m+1, n]) / h**2\n",
    "\n",
    "    # Time iterations\n",
    "    for n in range(1, N_tau-1):\n",
    "\n",
    "        A = numpy.zeros(shape=(N_h ,N_h))\n",
    "        f = numpy.zeros(shape=(N_h ,))\n",
    "\n",
    "        # Solve system of linear equations\n",
    "        \n",
    "        # Gaussian elimination (row reduction)\n",
    "        ws = [[0, 0, 0, 0]]\n",
    "        for m in range(1, N_h-1):\n",
    "\n",
    "            if m==1:\n",
    "\n",
    "                w0 = a(X[m], T[n]) * tau / h**2 * u[m-1, n]\n",
    "                w1 = -2 * a(X[m], T[n]) * tau / h**2 - 1\n",
    "                w2 = a(X[m], T[n]) * tau / h**2\n",
    "                w3 = -u[m, n-1]\n",
    "                w_curr = numpy.array([0, 1, w2/w1, (w3-w0)/w1])\n",
    "                ws.append(w_curr)\n",
    "\n",
    "            elif m!=1 and m!=N_h-2:\n",
    "\n",
    "                w0 = a(X[m], T[n]) * tau / h**2\n",
    "                w1 = -2 * a(X[m], T[n]) * tau / h**2 - 1\n",
    "                w2 = a(X[m], T[n]) * tau / h**2\n",
    "                w3 = -u[m, n-1]\n",
    "                w_curr = numpy.array([w0, w1, w2, w3])\n",
    "\n",
    "                w_p = ws[-1]\n",
    "                w_prev = numpy.array([w_p[1], w_p[2], 0, w_p[3]])\n",
    "\n",
    "                w_curr -= w_prev * w_curr[0]\n",
    "                w_curr /= w_curr[1]\n",
    "                ws.append(w_curr)\n",
    "\n",
    "\n",
    "            elif m==N_h-2:\n",
    "\n",
    "                w0 = a(X[m], T[n]) * tau / h**2\n",
    "                w1 = -2 * a(X[m], T[n]) * tau / h**2 - 1\n",
    "                w2 = a(X[m], T[n]) * tau / h**2 * u[m+1, n]\n",
    "                w3 = -u[m+1, n-1]\n",
    "                w_curr = numpy.array([w0, w1, 0, w3-w2])\n",
    "\n",
    "                w_p = ws[-1]\n",
    "                w_prev = numpy.array([w_p[1], w_p[2], 0, w_p[3]])\n",
    "\n",
    "                w_curr -= w_prev * w_curr[0]\n",
    "                w_curr /= w_curr[1]\n",
    "                ws.append(w_curr)\n",
    "\n",
    "        # u[m, n] estimation from the linear equations\n",
    "        for m in range(1, N_h-1)[::-1]:\n",
    "\n",
    "            if m == N_h-2:\n",
    "\n",
    "                u[m, n] = ws[m][3]\n",
    "\n",
    "            elif m!=1 and m!=N_h-2:\n",
    "\n",
    "                u[m, n] = ws[m][3] - ws[m][2] * u[m+1, n]\n",
    "\n",
    "            if m==1:\n",
    "\n",
    "                u[m, n] = ws[m][3] - ws[m][2] * u[m+1, n]\n",
    "                \n",
    "                \n",
    "    return u"
   ]
  },
  {
   "cell_type": "code",
   "execution_count": 3,
   "metadata": {
    "collapsed": false
   },
   "outputs": [],
   "source": [
    "# Define grid size\n",
    "N_tau = 100 # Time [0, 1]\n",
    "N_h = 100 # X [0, 1]\n",
    "\n",
    "# Define arrays\n",
    "X = numpy.linspace(0., 1., N_h)\n",
    "T = numpy.linspace(0., 1., N_tau)\n",
    "u = numpy.zeros(shape=(N_h, N_tau))\n",
    "\n",
    "# Initial and boundary conditions\n",
    "u0 = 100\n",
    "uX = 0\n",
    "\n",
    "u[0, :] = u0 * (numpy.cos(10*T) + 2.)\n",
    "u[-1, :] = uX\n",
    "\n",
    "# Solve heat equation\n",
    "u = Solver1D(u, N_tau, N_h)"
   ]
  },
  {
   "cell_type": "code",
   "execution_count": 4,
   "metadata": {
    "collapsed": false
   },
   "outputs": [
    {
     "name": "stdout",
     "output_type": "stream",
     "text": [
      "(100, 100)\n",
      "(100,)\n",
      "(100,)\n"
     ]
    }
   ],
   "source": [
    "print u.shape\n",
    "print X.shape\n",
    "print T.shape"
   ]
  },
  {
   "cell_type": "code",
   "execution_count": 5,
   "metadata": {
    "collapsed": false
   },
   "outputs": [
    {
     "data": {
      "image/png": "[encoded data removed]",
      "text/plain": [
       "<matplotlib.figure.Figure at 0x113384ad0>"
      ]
     },
     "metadata": {},
     "output_type": "display_data"
    }
   ],
   "source": [
    "plt.figure(figsize=(11, 6))\n",
    "plt.contourf(u)\n",
    "\n",
    "plt.xlabel(\"Time\", size=22)\n",
    "plt.ylabel(\"X\", size=22)\n",
    "plt.xticks(size=20)\n",
    "plt.yticks(size=20)\n",
    "plt.grid(1)\n",
    "plt.colorbar()\n",
    "plt.show()"
   ]
  },
  {
   "cell_type": "code",
   "execution_count": null,
   "metadata": {
    "collapsed": true
   },
   "outputs": [],
   "source": []
  }
 ],
 "metadata": {
  "kernelspec": {
   "display_name": "Python 2",
   "language": "python",
   "name": "python2"
  },
  "language_info": {
   "codemirror_mode": {
    "name": "ipython",
    "version": 2
   },
   "file_extension": ".py",
   "mimetype": "text/x-python",
   "name": "python",
   "nbconvert_exporter": "python",
   "pygments_lexer": "ipython2",
   "version": "2.7.13"
  }
 },
 "nbformat": 4,
 "nbformat_minor": 2
}
